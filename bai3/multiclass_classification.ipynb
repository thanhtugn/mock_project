{
  "cells": [
    {
      "cell_type": "markdown",
      "metadata": {
        "id": "view-in-github"
      },
      "source": [
        "<a href=\"https://colab.research.google.com/github/mrdbourke/tensorflow-deep-learning/blob/main/02_neural_network_classification_in_tensorflow.ipynb\" target=\"_parent\"><img src=\"https://colab.research.google.com/assets/colab-badge.svg\" alt=\"Open In Colab\"/></a>"
      ]
    },
    {
      "cell_type": "markdown",
      "metadata": {
        "id": "2WLKnUi6fI6B"
      },
      "source": [
        "## Làm việc với mẫu lớn (phân loại đa lớp)\n",
        "\n",
        "Chúng ta đã thấy mẫu phân loại đa lớp nhị phân (dự đoán xem một điểm dữ liệu có thuộc về đường tròn đỏ hoặc xanh không), tuy nhiên nếu có nhiều lớp khác nhau thì sao?\n",
        "\n",
        "Ví dụ: giả sử bạn là một công ty thời trang và cần xây dựng một mạng nơ-ron để dự đoán xem một mảnh vải là của giày, áo sơ mi hay áo khoác (3 lựa chọn khác nhau).\n",
        "\n",
        "Khi lựa chọn có nhiều hơn 2 lớp thì đây là **multiclass classification (phân loại đa lớp)**.\n",
        "\n",
        "Điều tốt là những thứ mà chúng ta học được cho tới giờ (với một số điều chỉnh) có thể áp dụng cho các bài toán phân loại đa lớp.\n",
        "\n",
        "Hãy xem triển khai của điều này.\n",
        "\n",
        "Để bắt đầu, chúng ta cần một số dữ liệu. Tin tốt là TensorFlow có một tập dữ liệu phân loại đa lớp có sẵn là [Fashion MNIST](https://github.com/zalandoresearch/fashion-mnist), chúng ta có thể bắt đầu ngay lập tức.\n",
        "\n",
        "Import nó bằng module [`tf.keras.datasets`](https://www.tensorflow.org/api_docs/python/tf/keras/datasets).\n",
        "\n",
        "> 📖 **Nguồn:** Bài toán phân loại đa lớp sau được lấy từ [TensorFlow classification guide](https://www.tensorflow.org/tutorials/keras/classification). Nên đi qua các ví dụ rồi lặp lại hướng dẫn của TensorFlow."
      ]
    },
    {
      "cell_type": "code",
      "execution_count": null,
      "metadata": {
        "colab": {
          "base_uri": "https://localhost:8080/"
        },
        "id": "zl50sxPTqpw4",
        "outputId": "97a42fcb-8703-401a-9c73-a926ae4dd1c5"
      },
      "outputs": [
        {
          "name": "stdout",
          "output_type": "stream",
          "text": [
            "Downloading data from https://storage.googleapis.com/tensorflow/tf-keras-datasets/train-labels-idx1-ubyte.gz\n",
            "32768/29515 [=================================] - 0s 0us/step\n",
            "Downloading data from https://storage.googleapis.com/tensorflow/tf-keras-datasets/train-images-idx3-ubyte.gz\n",
            "26427392/26421880 [==============================] - 0s 0us/step\n",
            "Downloading data from https://storage.googleapis.com/tensorflow/tf-keras-datasets/t10k-labels-idx1-ubyte.gz\n",
            "8192/5148 [===============================================] - 0s 0us/step\n",
            "Downloading data from https://storage.googleapis.com/tensorflow/tf-keras-datasets/t10k-images-idx3-ubyte.gz\n",
            "4423680/4422102 [==============================] - 0s 0us/step\n"
          ]
        }
      ],
      "source": [
        "import tensorflow as tf\n",
        "from tensorflow.keras.datasets import fashion_mnist\n",
        "\n",
        "# Dữ liệu đã được sắp xếp thành tập huấn luyện và tập kiểm tra\n",
        "(train_data, train_labels), (test_data, test_labels) = fashion_mnist.load_data()"
      ]
    },
    {
      "cell_type": "markdown",
      "metadata": {
        "id": "D6qJforMrCZy"
      },
      "source": [
        "Hãy xem một ví dụ."
      ]
    },
    {
      "cell_type": "code",
      "execution_count": null,
      "metadata": {
        "colab": {
          "base_uri": "https://localhost:8080/"
        },
        "id": "8PWdrQsyrBcy",
        "outputId": "ee53c8c1-3791-4aff-dd37-71875c31b22e"
      },
      "outputs": [
        {
          "name": "stdout",
          "output_type": "stream",
          "text": [
            "Training sample:\n",
            "[[  0   0   0   0   0   0   0   0   0   0   0   0   0   0   0   0   0   0\n",
            "    0   0   0   0   0   0   0   0   0   0]\n",
            " [  0   0   0   0   0   0   0   0   0   0   0   0   0   0   0   0   0   0\n",
            "    0   0   0   0   0   0   0   0   0   0]\n",
            " [  0   0   0   0   0   0   0   0   0   0   0   0   0   0   0   0   0   0\n",
            "    0   0   0   0   0   0   0   0   0   0]\n",
            " [  0   0   0   0   0   0   0   0   0   0   0   0   1   0   0  13  73   0\n",
            "    0   1   4   0   0   0   0   1   1   0]\n",
            " [  0   0   0   0   0   0   0   0   0   0   0   0   3   0  36 136 127  62\n",
            "   54   0   0   0   1   3   4   0   0   3]\n",
            " [  0   0   0   0   0   0   0   0   0   0   0   0   6   0 102 204 176 134\n",
            "  144 123  23   0   0   0   0  12  10   0]\n",
            " [  0   0   0   0   0   0   0   0   0   0   0   0   0   0 155 236 207 178\n",
            "  107 156 161 109  64  23  77 130  72  15]\n",
            " [  0   0   0   0   0   0   0   0   0   0   0   1   0  69 207 223 218 216\n",
            "  216 163 127 121 122 146 141  88 172  66]\n",
            " [  0   0   0   0   0   0   0   0   0   1   1   1   0 200 232 232 233 229\n",
            "  223 223 215 213 164 127 123 196 229   0]\n",
            " [  0   0   0   0   0   0   0   0   0   0   0   0   0 183 225 216 223 228\n",
            "  235 227 224 222 224 221 223 245 173   0]\n",
            " [  0   0   0   0   0   0   0   0   0   0   0   0   0 193 228 218 213 198\n",
            "  180 212 210 211 213 223 220 243 202   0]\n",
            " [  0   0   0   0   0   0   0   0   0   1   3   0  12 219 220 212 218 192\n",
            "  169 227 208 218 224 212 226 197 209  52]\n",
            " [  0   0   0   0   0   0   0   0   0   0   6   0  99 244 222 220 218 203\n",
            "  198 221 215 213 222 220 245 119 167  56]\n",
            " [  0   0   0   0   0   0   0   0   0   4   0   0  55 236 228 230 228 240\n",
            "  232 213 218 223 234 217 217 209  92   0]\n",
            " [  0   0   1   4   6   7   2   0   0   0   0   0 237 226 217 223 222 219\n",
            "  222 221 216 223 229 215 218 255  77   0]\n",
            " [  0   3   0   0   0   0   0   0   0  62 145 204 228 207 213 221 218 208\n",
            "  211 218 224 223 219 215 224 244 159   0]\n",
            " [  0   0   0   0  18  44  82 107 189 228 220 222 217 226 200 205 211 230\n",
            "  224 234 176 188 250 248 233 238 215   0]\n",
            " [  0  57 187 208 224 221 224 208 204 214 208 209 200 159 245 193 206 223\n",
            "  255 255 221 234 221 211 220 232 246   0]\n",
            " [  3 202 228 224 221 211 211 214 205 205 205 220 240  80 150 255 229 221\n",
            "  188 154 191 210 204 209 222 228 225   0]\n",
            " [ 98 233 198 210 222 229 229 234 249 220 194 215 217 241  65  73 106 117\n",
            "  168 219 221 215 217 223 223 224 229  29]\n",
            " [ 75 204 212 204 193 205 211 225 216 185 197 206 198 213 240 195 227 245\n",
            "  239 223 218 212 209 222 220 221 230  67]\n",
            " [ 48 203 183 194 213 197 185 190 194 192 202 214 219 221 220 236 225 216\n",
            "  199 206 186 181 177 172 181 205 206 115]\n",
            " [  0 122 219 193 179 171 183 196 204 210 213 207 211 210 200 196 194 191\n",
            "  195 191 198 192 176 156 167 177 210  92]\n",
            " [  0   0  74 189 212 191 175 172 175 181 185 188 189 188 193 198 204 209\n",
            "  210 210 211 188 188 194 192 216 170   0]\n",
            " [  2   0   0   0  66 200 222 237 239 242 246 243 244 221 220 193 191 179\n",
            "  182 182 181 176 166 168  99  58   0   0]\n",
            " [  0   0   0   0   0   0   0  40  61  44  72  41  35   0   0   0   0   0\n",
            "    0   0   0   0   0   0   0   0   0   0]\n",
            " [  0   0   0   0   0   0   0   0   0   0   0   0   0   0   0   0   0   0\n",
            "    0   0   0   0   0   0   0   0   0   0]\n",
            " [  0   0   0   0   0   0   0   0   0   0   0   0   0   0   0   0   0   0\n",
            "    0   0   0   0   0   0   0   0   0   0]]\n",
            "\n",
            "Training label: 9\n"
          ]
        }
      ],
      "source": [
        "# Hiển thị mẫu huấn luyện đầu tiên\n",
        "print(f\"Training sample:\\n{train_data[0]}\\n\")\n",
        "print(f\"Training label: {train_labels[0]}\")"
      ]
    },
    {
      "cell_type": "markdown",
      "metadata": {
        "id": "MMqbRp8jrdtv"
      },
      "source": [
        "Chúng ta nhận được một danh sách khá dài có các số, theo sau (dữ liệu) là một số duy nhất (class label).\n",
        "\n",
        "Vậy còn shape?"
      ]
    },
    {
      "cell_type": "code",
      "execution_count": null,
      "metadata": {
        "colab": {
          "base_uri": "https://localhost:8080/"
        },
        "id": "gN5-jr6arj19",
        "outputId": "0ab8dc73-5d2c-42f5-af1a-1da5d25f0646"
      },
      "outputs": [
        {
          "data": {
            "text/plain": [
              "((60000, 28, 28), (60000,), (10000, 28, 28), (10000,))"
            ]
          },
          "execution_count": 64,
          "metadata": {
            "tags": []
          },
          "output_type": "execute_result"
        }
      ],
      "source": [
        "# Kiểm tra shape của dữ liệu\n",
        "train_data.shape, train_labels.shape, test_data.shape, test_labels.shape"
      ]
    },
    {
      "cell_type": "code",
      "execution_count": null,
      "metadata": {
        "colab": {
          "base_uri": "https://localhost:8080/"
        },
        "id": "wNfIOUUEsJRt",
        "outputId": "9e82689d-59a3-46a4-8ca8-6b04e0323c09"
      },
      "outputs": [
        {
          "data": {
            "text/plain": [
              "((28, 28), ())"
            ]
          },
          "execution_count": 65,
          "metadata": {
            "tags": []
          },
          "output_type": "execute_result"
        }
      ],
      "source": [
        "#Kiểm tra shape của một mẫu đơn lẻ\n",
        "train_data[0].shape, train_labels[0].shape"
      ]
    },
    {
      "cell_type": "markdown",
      "metadata": {
        "id": "r2wW0cEfsAve"
      },
      "source": [
        "60,000 mẫu huấn luyện, mỗi mẫu có shape (28, 28) và một nhãn cũng như 10,000 mẫu kiểm tra, mỗi mẫu có shape (28, 28)\n",
        "\n",
        "Nhưng đó chỉ là các số, hãy trực quan hóa chúng."
      ]
    },
    {
      "cell_type": "code",
      "execution_count": null,
      "metadata": {
        "colab": {
          "base_uri": "https://localhost:8080/",
          "height": 265
        },
        "id": "RmC2VsWOscKP",
        "outputId": "0431432c-56bd-4518-d01b-829a0f85b69a"
      },
      "outputs": [
        {
          "data": {
            "image/png": "[encoded data removed]",
            "text/plain": [
              "<Figure size 432x288 with 1 Axes>"
            ]
          },
          "metadata": {
            "needs_background": "light",
            "tags": []
          },
          "output_type": "display_data"
        }
      ],
      "source": [
        "# Lập biểu đồ một mẫu duy nhất\n",
        "import matplotlib.pyplot as plt\n",
        "plt.imshow(train_data[7]);"
      ]
    },
    {
      "cell_type": "markdown",
      "metadata": {
        "id": "sOqirdtfstdQ"
      },
      "source": [
        "Vậy còn nhãn của nó thì sao?"
      ]
    },
    {
      "cell_type": "code",
      "execution_count": null,
      "metadata": {
        "colab": {
          "base_uri": "https://localhost:8080/"
        },
        "id": "hzTDEpaYsxga",
        "outputId": "c0f0470b-e953-4104-a8b2-4c9ca821b10e"
      },
      "outputs": [
        {
          "data": {
            "text/plain": [
              "2"
            ]
          },
          "execution_count": 67,
          "metadata": {
            "tags": []
          },
          "output_type": "execute_result"
        }
      ],
      "source": [
        "# Kiểm tra các nhãn mẫu\n",
        "train_labels[7]"
      ]
    },
    {
      "cell_type": "markdown",
      "metadata": {
        "id": "ZHdVBrCUs10A"
      },
      "source": [
        "Có vẻ các nhãn của chúng ta ở dạng số. Dù điều này tốt với mạng nơ-ron, chúng ta vẫn cần nhãn ở dạng con người đọc được.\n",
        "\n",
        "Hãy tạo một danh sách nhỏ gồm tên các lớp (chúng ta có thể tìm thấy trong tập dữ liệu của [GitHub](https://github.com/zalandoresearch/fashion-mnist#labels) ).\n",
        "\n",
        "> 🔑 **Lưu ý:** Mặc dù tập dữ liệu này đã được chuẩn bị và sẵn sàng hoạt động, cần nhớ rằng nhiều tập dữ liệu sẽ không như vậy. Các bạn thường sẽ phải thực hiện một số bước tiền xử lý để nó sẵn sàng sử dụng với mạng nơ-ron (chúng ta sẽ thấy nhiều hơn khi thực hiện với dữ liệu sau này)."
      ]
    },
    {
      "cell_type": "code",
      "execution_count": null,
      "metadata": {
        "colab": {
          "base_uri": "https://localhost:8080/"
        },
        "id": "uGOi32T8s1ai",
        "outputId": "7a830595-b83a-47c2-b083-8cbe1f765ece"
      },
      "outputs": [
        {
          "data": {
            "text/plain": [
              "10"
            ]
          },
          "execution_count": 68,
          "metadata": {
            "tags": []
          },
          "output_type": "execute_result"
        }
      ],
      "source": [
        "class_names = ['T-shirt/top', 'Trouser', 'Pullover', 'Dress', 'Coat',\n",
        "               'Sandal', 'Shirt', 'Sneaker', 'Bag', 'Ankle boot']\n",
        "\n",
        "# Có bao nhiêu lớp (đây sẽ là shape đầu ra)?\n",
        "len(class_names)"
      ]
    },
    {
      "cell_type": "markdown",
      "metadata": {
        "id": "zOiwINQQtzys"
      },
      "source": [
        "Hãy lập biểu đồ một mẫu khác.\n",
        "\n",
        "> 🤔 **Câu hỏi:** Hãy đặc biệt chú ý xem dữ liệu mà chúng ta đang thực hiện *trông* như thế nào? Nó có phải chỉ là đường thẳng hay không phải đường thẳng? Các bạn có nghĩ rằng nếu chúng ta cần tìm pattern trong các bức hình về trang phục (thực ra là tập hợp các điểm ảnh) thì mô hình có cần phi tuyến tính (không phải đường thẳng) hay không?"
      ]
    },
    {
      "cell_type": "code",
      "execution_count": null,
      "metadata": {
        "colab": {
          "base_uri": "https://localhost:8080/",
          "height": 281
        },
        "id": "_qD40id2tytn",
        "outputId": "d1dccb93-65eb-4028-ed3e-c9e1cf4c9b45"
      },
      "outputs": [
        {
          "data": {
            "image/png": "[encoded data removed]",
            "text/plain": [
              "<Figure size 432x288 with 1 Axes>"
            ]
          },
          "metadata": {
            "needs_background": "light",
            "tags": []
          },
          "output_type": "display_data"
        }
      ],
      "source": [
        "# Vẽ biểu đồ ảnh mẫu và nhãn của nó\n",
        "plt.imshow(train_data[17], cmap=plt.cm.binary) # thay đổi màu sắc thành đen và trắng\n",
        "plt.title(class_names[train_labels[17]]);"
      ]
    },
    {
      "cell_type": "code",
      "execution_count": null,
      "metadata": {
        "colab": {
          "base_uri": "https://localhost:8080/",
          "height": 427
        },
        "id": "Rtz9__w3s4JF",
        "outputId": "b54eb79e-66ec-4d29-8668-935c9955d151"
      },
      "outputs": [
        {
          "data": {
            "image/png": "[encoded data removed]",
            "text/plain": [
              "<Figure size 504x504 with 4 Axes>"
            ]
          },
          "metadata": {
            "needs_background": "light",
            "tags": []
          },
          "output_type": "display_data"
        }
      ],
      "source": [
        "# Vẽ biểu đồ nhiều hình của fashion MNIST\n",
        "import random\n",
        "plt.figure(figsize=(7, 7))\n",
        "for i in range(4):\n",
        "  ax = plt.subplot(2, 2, i + 1)\n",
        "  rand_index = random.choice(range(len(train_data)))\n",
        "  plt.imshow(train_data[rand_index], cmap=plt.cm.binary)\n",
        "  plt.title(class_names[train_labels[rand_index]])\n",
        "  plt.axis(False)"
      ]
    },
    {
      "cell_type": "markdown",
      "metadata": {
        "id": "TLqZif3Rv0Aq"
      },
      "source": [
        "Hãy xây dựng mô hình để tìm mối quan hệ giữa các giá trị điểm ảnh và nhãn của chúng.\n",
        "\n",
        "Vì đây là bài toán phân loại nên chúng ta sẽ thay đổi một ít kiến trúc (trực tiếp với Bảng 1 ở trên):\n",
        "\n",
        "* **Input shape** sẽ phải xử lý tensor 28x28 (chiều cao và rộng của ảnh).\n",
        "  * Thực ra chúng ta sẽ nén đầu vào thành một tensor (vectơ) có shape `(784)`.\n",
        "* **Output shape** sẽ phải là 10 vì chúng ta cần mô hình dự đoán cho 10 lớp khác nhau.\n",
        "  * Chúng ta cũng sẽ thay đổi tham số `activation` của lớp đầu ra thành [`\"softmax\"`](https://www.tensorflow.org/api_docs/python/tf/keras/activations/softmax) thay vì `'sigmoid'`. Hàm kích hoạt `\"softmax\"` sẽ xuất ra một chuỗi các giá trị trong khoảng từ 0 tới 1 (có shape tương tự như **output shape**, cộng lại thành ~1). Chỉ mục có giá trị cao nhất mà mô hình dự đoán *rất có thể* là lớp.\n",
        "* Chúng ta cần thay đổi hàm mất mát từ hàm mất mát nhị phân thành hàm mất mát đa lớp.\n",
        "  * Cụ thể, chúng ta sẽ dùng [`tf.keras.losses.SparseCategoricalCrossentropy()`](https://www.tensorflow.org/versions/r2.0/api_docs/python/tf/keras/losses/SparseCategoricalCrossentropy) nếu các nhãn ở dạng số nguyên, dùng [`tf.keras.losses.CategoricalCrossentropy()`](https://www.tensorflow.org/api_docs/python/tf/keras/losses/CategoricalCrossentropy) nếu các nhãn được mã hóa one-hot.\n",
        "* Chúng ta cũng sẽ sử dụng tham số `validation_data` khi gọi hàm `fit()`, điều này cho biết cách mô hình hoạt động trên tập kiểm tra trong suốt quá trình huấn luyện.\n",
        "\n",
        "Hãy thử thôi."
      ]
    },
    {
      "cell_type": "code",
      "execution_count": null,
      "metadata": {
        "colab": {
          "base_uri": "https://localhost:8080/"
        },
        "id": "qUFHuzIpv30K",
        "outputId": "c5d73297-4c9d-42f6-fc07-238b6f663e69"
      },
      "outputs": [
        {
          "name": "stdout",
          "output_type": "stream",
          "text": [
            "Epoch 1/10\n",
            "1875/1875 [==============================] - 3s 1ms/step - loss: 2.1631 - accuracy: 0.1622 - val_loss: 1.7951 - val_accuracy: 0.2100\n",
            "Epoch 2/10\n",
            "1875/1875 [==============================] - 3s 1ms/step - loss: 1.7094 - accuracy: 0.2514 - val_loss: 1.6439 - val_accuracy: 0.3022\n",
            "Epoch 3/10\n",
            "1875/1875 [==============================] - 3s 1ms/step - loss: 1.6353 - accuracy: 0.2847 - val_loss: 1.6003 - val_accuracy: 0.2818\n",
            "Epoch 4/10\n",
            "1875/1875 [==============================] - 3s 1ms/step - loss: 1.6099 - accuracy: 0.2858 - val_loss: 1.5964 - val_accuracy: 0.2958\n",
            "Epoch 5/10\n",
            "1875/1875 [==============================] - 3s 1ms/step - loss: 1.5958 - accuracy: 0.3040 - val_loss: 1.5948 - val_accuracy: 0.3005\n",
            "Epoch 6/10\n",
            "1875/1875 [==============================] - 2s 1ms/step - loss: 1.5842 - accuracy: 0.3115 - val_loss: 1.5678 - val_accuracy: 0.3195\n",
            "Epoch 7/10\n",
            "1875/1875 [==============================] - 3s 1ms/step - loss: 1.5700 - accuracy: 0.3205 - val_loss: 1.5695 - val_accuracy: 0.3161\n",
            "Epoch 8/10\n",
            "1875/1875 [==============================] - 3s 1ms/step - loss: 1.5605 - accuracy: 0.3258 - val_loss: 1.5526 - val_accuracy: 0.3343\n",
            "Epoch 9/10\n",
            "1875/1875 [==============================] - 3s 1ms/step - loss: 1.5626 - accuracy: 0.3269 - val_loss: 1.5467 - val_accuracy: 0.3373\n",
            "Epoch 10/10\n",
            "1875/1875 [==============================] - 2s 1ms/step - loss: 1.5451 - accuracy: 0.3327 - val_loss: 1.5339 - val_accuracy: 0.3542\n"
          ]
        }
      ],
      "source": [
        "# Thiết lập random seed\n",
        "tf.random.set_seed(42)\n",
        "\n",
        "# Tạo mô hình\n",
        "model_11 = tf.keras.Sequential([\n",
        "  tf.keras.layers.Flatten(input_shape=(28, 28)), # lớp đầu vào (cần reshape 28x28 thành 784, lớp Flatten sẽ thực hiện điều này cho chúng ta)\n",
        "  tf.keras.layers.Dense(4, activation=\"relu\"),\n",
        "  tf.keras.layers.Dense(4, activation=\"relu\"),\n",
        "  tf.keras.layers.Dense(10, activation=\"softmax\") # output shape là 10, activation là softmax\n",
        "])\n",
        "\n",
        "# Biên dịch mô hình\n",
        "model_11.compile(loss=tf.keras.losses.SparseCategoricalCrossentropy(), # hàm mất mát khác nhau cho phân loại đa lớp\n",
        "                 optimizer=tf.keras.optimizers.Adam(),\n",
        "                 metrics=[\"accuracy\"])\n",
        "\n",
        "# Khớp mô hình\n",
        "non_norm_history = model_11.fit(train_data,\n",
        "                                train_labels,\n",
        "                                epochs=10,\n",
        "                                validation_data=(test_data, test_labels)) # xem mô hình hoạt động như thế nào trên tập kiểm tra trong quá trình huấn luyện"
      ]
    },
    {
      "cell_type": "code",
      "execution_count": null,
      "metadata": {
        "colab": {
          "base_uri": "https://localhost:8080/"
        },
        "id": "3hzYWEgoVJ_p",
        "outputId": "40b20b28-80f2-4e68-bee4-cea59c9da6f0"
      },
      "outputs": [
        {
          "name": "stdout",
          "output_type": "stream",
          "text": [
            "Model: \"sequential_11\"\n",
            "_________________________________________________________________\n",
            "Layer (type)                 Output Shape              Param #   \n",
            "=================================================================\n",
            "flatten (Flatten)            (None, 784)               0         \n",
            "_________________________________________________________________\n",
            "dense_28 (Dense)             (None, 4)                 3140      \n",
            "_________________________________________________________________\n",
            "dense_29 (Dense)             (None, 4)                 20        \n",
            "_________________________________________________________________\n",
            "dense_30 (Dense)             (None, 10)                50        \n",
            "=================================================================\n",
            "Total params: 3,210\n",
            "Trainable params: 3,210\n",
            "Non-trainable params: 0\n",
            "_________________________________________________________________\n"
          ]
        }
      ],
      "source": [
        "# Kiểm tra shape của mô hình\n",
        "# Lưu ý: \"None\" trong (None, 784) là batch_size, chúng ta sẽ đề cập nó sau\n",
        "model_11.summary()"
      ]
    },
    {
      "cell_type": "markdown",
      "metadata": {
        "id": "XRfkre59zSto"
      },
      "source": [
        "Mô hình đạt được độ chính xác ~35% sau 10 epoch, sử dụng mô hình có phong cách tương tự như mô hình mà chúng ta dùng cho bài toán phân loại nhị phân, điều này tốt hơn so với việc đoán (đoán 10 lớp được độ chính xác 10%), nhưng chúng ta có thể làm tốt hơn thế.\n",
        "\n",
        "Các bạn còn nhớ khi chúng ta nhắc tới mạng nơ-ron ưu tiên các số trong khoảng từ 0 tới 1 không? (nếu không, hãy coi đây là một lời nhắc)\n",
        "\n",
        "Bây giờ dữ liệu mà chúng ta có không trong khoảng 0-1, nói cách khác, nó không được chuẩn hóa (nên chúng ta dùng biến `non_norm_history` khi gọi `fit()`). Nó là giá trị điểm ảnh trong khoảng 0-255.\n",
        "\n",
        "Hãy xem."
      ]
    },
    {
      "cell_type": "code",
      "execution_count": null,
      "metadata": {
        "colab": {
          "base_uri": "https://localhost:8080/"
        },
        "id": "tGiweanwz82_",
        "outputId": "6f1480b9-b4de-4ab1-c7b9-a713bde36cd0"
      },
      "outputs": [
        {
          "data": {
            "text/plain": [
              "(0, 255)"
            ]
          },
          "execution_count": 73,
          "metadata": {
            "tags": []
          },
          "output_type": "execute_result"
        }
      ],
      "source": [
        "# Kiểm tra các giá trị nhỏ nhất, lớn nhất của dữ liệu huấn luyện\n",
        "train_data.min(), train_data.max()"
      ]
    },
    {
      "cell_type": "markdown",
      "metadata": {
        "id": "syB7LOk30H0_"
      },
      "source": [
        "Chúng ta thu được các giá trị từ 0 tới 1 bằng cách chia toàn bộ mảng cho giá trị lớn nhất: `255.0`(chia cho float cũng chuyển thành float).\n",
        "\n",
        "\n",
        "Làm như vậy sẽ khiến toàn bộ dữ liệu nằm trong khoảng 0-1 (gọi là **co giãn (scaling)** hoặc **chuẩn hóa (normalization)**)."
      ]
    },
    {
      "cell_type": "code",
      "execution_count": null,
      "metadata": {
        "colab": {
          "base_uri": "https://localhost:8080/"
        },
        "id": "ABRKp5U8voV_",
        "outputId": "ee2fa052-14b1-41af-93b1-ff1c5161894b"
      },
      "outputs": [
        {
          "data": {
            "text/plain": [
              "(0.0, 1.0)"
            ]
          },
          "execution_count": 74,
          "metadata": {
            "tags": []
          },
          "output_type": "execute_result"
        }
      ],
      "source": [
        "# Chia các hình ảnh huấn luyện và kiểm tra cho giá trị lớn nhất (chuẩn hóa nó)\n",
        "train_data = train_data / 255.0\n",
        "test_data = test_data / 255.0\n",
        "\n",
        "# Kiểm tra các giá trị lớn nhất và nhỏ nhất của dữ liệu huấn luyện\n",
        "train_data.min(), train_data.max()"
      ]
    },
    {
      "cell_type": "markdown",
      "metadata": {
        "id": "LeYQEXOf06oo"
      },
      "source": [
        "Tuyệt! Giờ dữ liệu đã nằm trong khoảng 0-1. Hãy xem điều gì sẽ xảy ra nếu chúng ta mô hình hóa nó.\n",
        "\n",
        "Chúng ta sẽ sử dụng mô hình tương tự như trước (`model_11`) trừ việc lần này dữ liệu được chuẩn hóa."
      ]
    },
    {
      "cell_type": "code",
      "execution_count": null,
      "metadata": {
        "colab": {
          "base_uri": "https://localhost:8080/"
        },
        "id": "z1QRy7y_K_87",
        "outputId": "393911e4-e997-4368-f8ab-8a77430ffdc8"
      },
      "outputs": [
        {
          "name": "stdout",
          "output_type": "stream",
          "text": [
            "Epoch 1/10\n",
            "1875/1875 [==============================] - 3s 1ms/step - loss: 1.0348 - accuracy: 0.6474 - val_loss: 0.6937 - val_accuracy: 0.7617\n",
            "Epoch 2/10\n",
            "1875/1875 [==============================] - 2s 1ms/step - loss: 0.6376 - accuracy: 0.7757 - val_loss: 0.6400 - val_accuracy: 0.7820\n",
            "Epoch 3/10\n",
            "1875/1875 [==============================] - 2s 1ms/step - loss: 0.5942 - accuracy: 0.7914 - val_loss: 0.6247 - val_accuracy: 0.7783\n",
            "Epoch 4/10\n",
            "1875/1875 [==============================] - 2s 1ms/step - loss: 0.5750 - accuracy: 0.7979 - val_loss: 0.6078 - val_accuracy: 0.7881\n",
            "Epoch 5/10\n",
            "1875/1875 [==============================] - 2s 1ms/step - loss: 0.5641 - accuracy: 0.8006 - val_loss: 0.6169 - val_accuracy: 0.7881\n",
            "Epoch 6/10\n",
            "1875/1875 [==============================] - 2s 1ms/step - loss: 0.5544 - accuracy: 0.8043 - val_loss: 0.5855 - val_accuracy: 0.7951\n",
            "Epoch 7/10\n",
            "1875/1875 [==============================] - 2s 1ms/step - loss: 0.5488 - accuracy: 0.8063 - val_loss: 0.6097 - val_accuracy: 0.7836\n",
            "Epoch 8/10\n",
            "1875/1875 [==============================] - 2s 1ms/step - loss: 0.5428 - accuracy: 0.8077 - val_loss: 0.5787 - val_accuracy: 0.7971\n",
            "Epoch 9/10\n",
            "1875/1875 [==============================] - 2s 1ms/step - loss: 0.5373 - accuracy: 0.8097 - val_loss: 0.5698 - val_accuracy: 0.7977\n",
            "Epoch 10/10\n",
            "1875/1875 [==============================] - 2s 1ms/step - loss: 0.5360 - accuracy: 0.8124 - val_loss: 0.5658 - val_accuracy: 0.8014\n"
          ]
        }
      ],
      "source": [
        "# Thiết lập random seed\n",
        "tf.random.set_seed(42)\n",
        "\n",
        "# Tạo mô hình\n",
        "model_12 = tf.keras.Sequential([\n",
        "  tf.keras.layers.Flatten(input_shape=(28, 28)), # lớp đầu vào (cần reshape 28x28 thành 784)\n",
        "  tf.keras.layers.Dense(4, activation=\"relu\"),\n",
        "  tf.keras.layers.Dense(4, activation=\"relu\"),\n",
        "  tf.keras.layers.Dense(10, activation=\"softmax\") # output shape là 10, activation là softmax\n",
        "])\n",
        "\n",
        "# Biên dịch mô hình\n",
        "model_12.compile(loss=tf.keras.losses.SparseCategoricalCrossentropy(),\n",
        "                 optimizer=tf.keras.optimizers.Adam(),\n",
        "                 metrics=[\"accuracy\"])\n",
        "\n",
        "# Khớp mô hình (với dữ liệu đã chuẩn hóa)\n",
        "norm_history = model_12.fit(train_data,\n",
        "                            train_labels,\n",
        "                            epochs=10,\n",
        "                            validation_data=(test_data, test_labels))"
      ]
    },
    {
      "cell_type": "markdown",
      "metadata": {
        "id": "C_I2KNJiMWZ8"
      },
      "source": [
        "Cùng một mô hình như trước nhưng lần này, mô hình với dữ liệu đã chuẩn hóa cho độ chính xác cao hơn nhiều!\n",
        "\n",
        "Lập biểu đồ lịch sử của từng mô hình (loss curve)"
      ]
    },
    {
      "cell_type": "code",
      "execution_count": null,
      "metadata": {
        "colab": {
          "base_uri": "https://localhost:8080/",
          "height": 545
        },
        "id": "zmRcYU7xN1wQ",
        "outputId": "b07082f7-8dd0-4955-8497-ec74425114ec"
      },
      "outputs": [
        {
          "data": {
            "image/png": "[encoded data removed]",
            "text/plain": [
              "<Figure size 432x288 with 1 Axes>"
            ]
          },
          "metadata": {
            "needs_background": "light",
            "tags": []
          },
          "output_type": "display_data"
        },
        {
          "data": {
            "image/png": "[encoded data removed]",
            "text/plain": [
              "<Figure size 432x288 with 1 Axes>"
            ]
          },
          "metadata": {
            "needs_background": "light",
            "tags": []
          },
          "output_type": "display_data"
        }
      ],
      "source": [
        "import pandas as pd\n",
        "# Vẽ biểu đồ loss curve của dữ liệu không được chuẩn hóa\n",
        "pd.DataFrame(non_norm_history.history).plot(title=\"Non-normalized Data\")\n",
        "# Vẽ biểu đồ loss curve của dữ liệu đã được chuẩn hóa\n",
        "pd.DataFrame(norm_history.history).plot(title=\"Normalized data\");"
      ]
    },
    {
      "cell_type": "markdown",
      "metadata": {
        "id": "VKm8MsACOm4j"
      },
      "source": [
        "Từ 2 biểu đồ trên, chúng ta thấy rằng mô hình với dữ liệu đã chuẩn hóa (`model_12`) cải thiện nhanh hơn so với mô hình không có dữ liệu được chuẩn hóa (`model_11`).\n",
        "\n",
        "> 🔑 **Lưu ý:** Cùng một mô hình nhưng dữ liệu khác *một chút* cũng dẫn tới các kết quả khác biệt *đáng kể*. Do đó, khi so sánh các mô hình, cần đảm bảo so sánh trên cùng tiêu chí (ví dụ: kiến trúc giống nhau nhưng dữ liệu khác nhau hoặc dữ liệu giống nhau nhưng kiến trúc khác nhau).\n",
        "\n",
        "Hãy tìm tốc độ học tốt nhất và xem điều gì xảy ra?\n",
        "\n",
        "Chúng ta sẽ dùng cũng một kiến trúc đang được sử dụng."
      ]
    },
    {
      "cell_type": "code",
      "execution_count": null,
      "metadata": {
        "colab": {
          "base_uri": "https://localhost:8080/"
        },
        "id": "LcR_wb4nPSb2",
        "outputId": "a9b5749d-2d3e-46b1-b479-35668f9c47bf"
      },
      "outputs": [
        {
          "name": "stdout",
          "output_type": "stream",
          "text": [
            "Epoch 1/40\n",
            "1875/1875 [==============================] - 3s 1ms/step - loss: 1.0348 - accuracy: 0.6474 - val_loss: 0.6937 - val_accuracy: 0.7617\n",
            "Epoch 2/40\n",
            "1875/1875 [==============================] - 2s 1ms/step - loss: 0.6366 - accuracy: 0.7759 - val_loss: 0.6400 - val_accuracy: 0.7808\n",
            "Epoch 3/40\n",
            "1875/1875 [==============================] - 2s 1ms/step - loss: 0.5934 - accuracy: 0.7911 - val_loss: 0.6278 - val_accuracy: 0.7770\n",
            "Epoch 4/40\n",
            "1875/1875 [==============================] - 2s 1ms/step - loss: 0.5749 - accuracy: 0.7969 - val_loss: 0.6122 - val_accuracy: 0.7871\n",
            "Epoch 5/40\n",
            "1875/1875 [==============================] - 2s 1ms/step - loss: 0.5655 - accuracy: 0.7987 - val_loss: 0.6061 - val_accuracy: 0.7913\n",
            "Epoch 6/40\n",
            "1875/1875 [==============================] - 2s 1ms/step - loss: 0.5569 - accuracy: 0.8022 - val_loss: 0.5917 - val_accuracy: 0.7940\n",
            "Epoch 7/40\n",
            "1875/1875 [==============================] - 2s 1ms/step - loss: 0.5542 - accuracy: 0.8036 - val_loss: 0.5898 - val_accuracy: 0.7896\n",
            "Epoch 8/40\n",
            "1875/1875 [==============================] - 2s 1ms/step - loss: 0.5509 - accuracy: 0.8039 - val_loss: 0.5829 - val_accuracy: 0.7949\n",
            "Epoch 9/40\n",
            "1875/1875 [==============================] - 2s 1ms/step - loss: 0.5468 - accuracy: 0.8047 - val_loss: 0.6036 - val_accuracy: 0.7833\n",
            "Epoch 10/40\n",
            "1875/1875 [==============================] - 2s 1ms/step - loss: 0.5478 - accuracy: 0.8058 - val_loss: 0.5736 - val_accuracy: 0.7974\n",
            "Epoch 11/40\n",
            "1875/1875 [==============================] - 2s 1ms/step - loss: 0.5446 - accuracy: 0.8059 - val_loss: 0.5672 - val_accuracy: 0.8016\n",
            "Epoch 12/40\n",
            "1875/1875 [==============================] - 2s 1ms/step - loss: 0.5432 - accuracy: 0.8067 - val_loss: 0.5773 - val_accuracy: 0.7950\n",
            "Epoch 13/40\n",
            "1875/1875 [==============================] - 2s 1ms/step - loss: 0.5425 - accuracy: 0.8056 - val_loss: 0.5775 - val_accuracy: 0.7992\n",
            "Epoch 14/40\n",
            "1875/1875 [==============================] - 2s 1ms/step - loss: 0.5407 - accuracy: 0.8078 - val_loss: 0.5616 - val_accuracy: 0.8075\n",
            "Epoch 15/40\n",
            "1875/1875 [==============================] - 2s 1ms/step - loss: 0.5408 - accuracy: 0.8052 - val_loss: 0.5773 - val_accuracy: 0.8039\n",
            "Epoch 16/40\n",
            "1875/1875 [==============================] - 2s 1ms/step - loss: 0.5437 - accuracy: 0.8058 - val_loss: 0.5682 - val_accuracy: 0.8015\n",
            "Epoch 17/40\n",
            "1875/1875 [==============================] - 2s 1ms/step - loss: 0.5419 - accuracy: 0.8075 - val_loss: 0.5995 - val_accuracy: 0.7964\n",
            "Epoch 18/40\n",
            "1875/1875 [==============================] - 2s 1ms/step - loss: 0.5488 - accuracy: 0.8058 - val_loss: 0.5544 - val_accuracy: 0.8087\n",
            "Epoch 19/40\n",
            "1875/1875 [==============================] - 2s 1ms/step - loss: 0.5506 - accuracy: 0.8042 - val_loss: 0.6068 - val_accuracy: 0.7864\n",
            "Epoch 20/40\n",
            "1875/1875 [==============================] - 2s 1ms/step - loss: 0.5537 - accuracy: 0.8030 - val_loss: 0.5597 - val_accuracy: 0.8076\n",
            "Epoch 21/40\n",
            "1875/1875 [==============================] - 2s 1ms/step - loss: 0.5572 - accuracy: 0.8036 - val_loss: 0.5998 - val_accuracy: 0.7934\n",
            "Epoch 22/40\n",
            "1875/1875 [==============================] - 2s 1ms/step - loss: 0.5615 - accuracy: 0.8013 - val_loss: 0.5756 - val_accuracy: 0.8034\n",
            "Epoch 23/40\n",
            "1875/1875 [==============================] - 2s 1ms/step - loss: 0.5655 - accuracy: 0.8017 - val_loss: 0.6386 - val_accuracy: 0.7668\n",
            "Epoch 24/40\n",
            "1875/1875 [==============================] - 2s 1ms/step - loss: 0.5819 - accuracy: 0.7963 - val_loss: 0.6356 - val_accuracy: 0.7869\n",
            "Epoch 25/40\n",
            "1875/1875 [==============================] - 2s 1ms/step - loss: 0.5810 - accuracy: 0.7977 - val_loss: 0.6481 - val_accuracy: 0.7865\n",
            "Epoch 26/40\n",
            "1875/1875 [==============================] - 2s 1ms/step - loss: 0.5960 - accuracy: 0.7901 - val_loss: 0.6997 - val_accuracy: 0.7802\n",
            "Epoch 27/40\n",
            "1875/1875 [==============================] - 2s 1ms/step - loss: 0.6101 - accuracy: 0.7870 - val_loss: 0.6124 - val_accuracy: 0.7917\n",
            "Epoch 28/40\n",
            "1875/1875 [==============================] - 2s 1ms/step - loss: 0.6178 - accuracy: 0.7846 - val_loss: 0.6137 - val_accuracy: 0.7962\n",
            "Epoch 29/40\n",
            "1875/1875 [==============================] - 2s 1ms/step - loss: 0.6357 - accuracy: 0.7771 - val_loss: 0.6655 - val_accuracy: 0.7621\n",
            "Epoch 30/40\n",
            "1875/1875 [==============================] - 2s 1ms/step - loss: 0.6664 - accuracy: 0.7673 - val_loss: 0.7274 - val_accuracy: 0.7454\n",
            "Epoch 31/40\n",
            "1875/1875 [==============================] - 2s 1ms/step - loss: 0.6815 - accuracy: 0.7611 - val_loss: 0.6861 - val_accuracy: 0.7527\n",
            "Epoch 32/40\n",
            "1875/1875 [==============================] - 3s 1ms/step - loss: 0.7031 - accuracy: 0.7570 - val_loss: 0.8097 - val_accuracy: 0.7441\n",
            "Epoch 33/40\n",
            "1875/1875 [==============================] - 3s 1ms/step - loss: 0.7765 - accuracy: 0.7337 - val_loss: 0.8163 - val_accuracy: 0.7702\n",
            "Epoch 34/40\n",
            "1875/1875 [==============================] - 3s 1ms/step - loss: 0.7721 - accuracy: 0.7409 - val_loss: 0.7519 - val_accuracy: 0.7000\n",
            "Epoch 35/40\n",
            "1875/1875 [==============================] - 3s 1ms/step - loss: 0.8270 - accuracy: 0.7169 - val_loss: 0.8102 - val_accuracy: 0.7342\n",
            "Epoch 36/40\n",
            "1875/1875 [==============================] - 3s 1ms/step - loss: 0.8899 - accuracy: 0.6934 - val_loss: 0.8824 - val_accuracy: 0.6822\n",
            "Epoch 37/40\n",
            "1875/1875 [==============================] - 2s 1ms/step - loss: 0.9549 - accuracy: 0.6611 - val_loss: 1.0329 - val_accuracy: 0.6430\n",
            "Epoch 38/40\n",
            "1875/1875 [==============================] - 3s 1ms/step - loss: 1.0223 - accuracy: 0.6282 - val_loss: 0.9631 - val_accuracy: 0.6314\n",
            "Epoch 39/40\n",
            "1875/1875 [==============================] - 2s 1ms/step - loss: 1.2757 - accuracy: 0.4810 - val_loss: 1.1771 - val_accuracy: 0.4974\n",
            "Epoch 40/40\n",
            "1875/1875 [==============================] - 3s 1ms/step - loss: 1.5858 - accuracy: 0.3265 - val_loss: 1.6092 - val_accuracy: 0.3048\n"
          ]
        }
      ],
      "source": [
        "# Thiết lập random seed\n",
        "tf.random.set_seed(42)\n",
        "\n",
        "# Tạo mô hình\n",
        "model_13 = tf.keras.Sequential([\n",
        "  tf.keras.layers.Flatten(input_shape=(28, 28)), # lớp đầu vào (cần reshape 28x28 thành 784)\n",
        "  tf.keras.layers.Dense(4, activation=\"relu\"),\n",
        "  tf.keras.layers.Dense(4, activation=\"relu\"),\n",
        "  tf.keras.layers.Dense(10, activation=\"softmax\") # output shape là 10, activation là softmax\n",
        "])\n",
        "\n",
        "# Biên dịch mô hình\n",
        "model_13.compile(loss=tf.keras.losses.SparseCategoricalCrossentropy(),\n",
        "                 optimizer=tf.keras.optimizers.Adam(),\n",
        "                 metrics=[\"accuracy\"])\n",
        "\n",
        "# Tạo learning rate callback\n",
        "lr_scheduler = tf.keras.callbacks.LearningRateScheduler(lambda epoch: 1e-3 * 10**(epoch/20))\n",
        "\n",
        "# Khớp mô hình\n",
        "find_lr_history = model_13.fit(train_data,\n",
        "                               train_labels,\n",
        "                               epochs=40, # mô hình đang hoạt động khá tốt với tốc độ học hiện tại, có thể không cần 100 epoch\n",
        "                               validation_data=(test_data, test_labels),\n",
        "                               callbacks=[lr_scheduler])"
      ]
    },
    {
      "cell_type": "code",
      "execution_count": null,
      "metadata": {
        "colab": {
          "base_uri": "https://localhost:8080/",
          "height": 299
        },
        "id": "Hi2YODTwQ1ie",
        "outputId": "a0c70fbc-3f24-42fb-e2f4-ba27b1bef699"
      },
      "outputs": [
        {
          "data": {
            "image/png": "[encoded data removed]",
            "text/plain": [
              "<Figure size 432x288 with 1 Axes>"
            ]
          },
          "metadata": {
            "needs_background": "light",
            "tags": []
          },
          "output_type": "display_data"
        }
      ],
      "source": [
        "# Vẽ đường cong suy giảm tốc độ học\n",
        "import numpy as np\n",
        "import matplotlib.pyplot as plt\n",
        "lrs = 1e-3 * (10**(np.arange(40)/20))\n",
        "plt.semilogx(lrs, find_lr_history.history[\"loss\"]) # cần trục x theo thang log\n",
        "plt.xlabel(\"Learning rate\")\n",
        "plt.ylabel(\"Loss\")\n",
        "plt.title(\"Finding the ideal learning rate\");"
      ]
    },
    {
      "cell_type": "markdown",
      "metadata": {
        "id": "GqtOjggqWcfS"
      },
      "source": [
        "Trong trường hợp này, nó trông khá sát với tốc độ học của [thuật toán tối ưu Adam](https://www.tensorflow.org/api_docs/python/tf/keras/optimizers/Adam), (`0.001`) là tốc độ học lý tưởng.\n",
        "\n",
        "Hãy khớp lại mô hình với tốc độ học lý tưởng."
      ]
    },
    {
      "cell_type": "code",
      "execution_count": null,
      "metadata": {
        "colab": {
          "base_uri": "https://localhost:8080/"
        },
        "id": "i9KFhAwKXjWd",
        "outputId": "e186a125-2b95-45e5-c41c-d92894677f1c"
      },
      "outputs": [
        {
          "name": "stdout",
          "output_type": "stream",
          "text": [
            "Epoch 1/20\n",
            "1875/1875 [==============================] - 3s 1ms/step - loss: 1.0348 - accuracy: 0.6474 - val_loss: 0.6937 - val_accuracy: 0.7617\n",
            "Epoch 2/20\n",
            "1875/1875 [==============================] - 2s 1ms/step - loss: 0.6376 - accuracy: 0.7757 - val_loss: 0.6400 - val_accuracy: 0.7820\n",
            "Epoch 3/20\n",
            "1875/1875 [==============================] - 2s 1ms/step - loss: 0.5942 - accuracy: 0.7914 - val_loss: 0.6247 - val_accuracy: 0.7783\n",
            "Epoch 4/20\n",
            "1875/1875 [==============================] - 2s 1ms/step - loss: 0.5750 - accuracy: 0.7979 - val_loss: 0.6078 - val_accuracy: 0.7881\n",
            "Epoch 5/20\n",
            "1875/1875 [==============================] - 2s 1ms/step - loss: 0.5641 - accuracy: 0.8006 - val_loss: 0.6169 - val_accuracy: 0.7881\n",
            "Epoch 6/20\n",
            "1875/1875 [==============================] - 2s 1ms/step - loss: 0.5544 - accuracy: 0.8043 - val_loss: 0.5855 - val_accuracy: 0.7951\n",
            "Epoch 7/20\n",
            "1875/1875 [==============================] - 3s 1ms/step - loss: 0.5488 - accuracy: 0.8063 - val_loss: 0.6097 - val_accuracy: 0.7836\n",
            "Epoch 8/20\n",
            "1875/1875 [==============================] - 2s 1ms/step - loss: 0.5428 - accuracy: 0.8077 - val_loss: 0.5787 - val_accuracy: 0.7971\n",
            "Epoch 9/20\n",
            "1875/1875 [==============================] - 2s 1ms/step - loss: 0.5373 - accuracy: 0.8097 - val_loss: 0.5698 - val_accuracy: 0.7977\n",
            "Epoch 10/20\n",
            "1875/1875 [==============================] - 2s 1ms/step - loss: 0.5360 - accuracy: 0.8124 - val_loss: 0.5658 - val_accuracy: 0.8014\n",
            "Epoch 11/20\n",
            "1875/1875 [==============================] - 2s 1ms/step - loss: 0.5311 - accuracy: 0.8130 - val_loss: 0.5714 - val_accuracy: 0.8002\n",
            "Epoch 12/20\n",
            "1875/1875 [==============================] - 2s 1ms/step - loss: 0.5284 - accuracy: 0.8132 - val_loss: 0.5626 - val_accuracy: 0.8027\n",
            "Epoch 13/20\n",
            "1875/1875 [==============================] - 2s 1ms/step - loss: 0.5271 - accuracy: 0.8138 - val_loss: 0.5619 - val_accuracy: 0.8041\n",
            "Epoch 14/20\n",
            "1875/1875 [==============================] - 2s 1ms/step - loss: 0.5249 - accuracy: 0.8143 - val_loss: 0.5718 - val_accuracy: 0.7991\n",
            "Epoch 15/20\n",
            "1875/1875 [==============================] - 2s 1ms/step - loss: 0.5231 - accuracy: 0.8148 - val_loss: 0.5706 - val_accuracy: 0.8024\n",
            "Epoch 16/20\n",
            "1875/1875 [==============================] - 2s 1ms/step - loss: 0.5203 - accuracy: 0.8162 - val_loss: 0.5731 - val_accuracy: 0.8023\n",
            "Epoch 17/20\n",
            "1875/1875 [==============================] - 2s 1ms/step - loss: 0.5191 - accuracy: 0.8176 - val_loss: 0.5594 - val_accuracy: 0.8030\n",
            "Epoch 18/20\n",
            "1875/1875 [==============================] - 2s 1ms/step - loss: 0.5176 - accuracy: 0.8157 - val_loss: 0.5582 - val_accuracy: 0.8053\n",
            "Epoch 19/20\n",
            "1875/1875 [==============================] - 2s 1ms/step - loss: 0.5156 - accuracy: 0.8169 - val_loss: 0.5644 - val_accuracy: 0.8007\n",
            "Epoch 20/20\n",
            "1875/1875 [==============================] - 2s 1ms/step - loss: 0.5146 - accuracy: 0.8177 - val_loss: 0.5660 - val_accuracy: 0.8075\n"
          ]
        }
      ],
      "source": [
        "# Thiết lập random seed\n",
        "tf.random.set_seed(42)\n",
        "\n",
        "# Tạo mô hình\n",
        "model_14 = tf.keras.Sequential([\n",
        "  tf.keras.layers.Flatten(input_shape=(28, 28)), # lớp đầu vào (cần reshape 28x28 thành 784)\n",
        "  tf.keras.layers.Dense(4, activation=\"relu\"),\n",
        "  tf.keras.layers.Dense(4, activation=\"relu\"),\n",
        "  tf.keras.layers.Dense(10, activation=\"softmax\") # output shape là 10, activation là softmax\n",
        "])\n",
        "\n",
        "# Biên dịch mô hình\n",
        "model_14.compile(loss=tf.keras.losses.SparseCategoricalCrossentropy(),\n",
        "                 optimizer=tf.keras.optimizers.Adam(lr=0.001), # tốc độ học lý tưởng (giống mặc định)\n",
        "                 metrics=[\"accuracy\"])\n",
        "\n",
        "# Khớp mô hình\n",
        "history = model_14.fit(train_data,\n",
        "                       train_labels,\n",
        "                       epochs=20,\n",
        "                       validation_data=(test_data, test_labels))"
      ]
    },
    {
      "cell_type": "markdown",
      "metadata": {
        "id": "1ODWXAlnWqri"
      },
      "source": [
        "Chúng ta có một mô hình được huấn luyện với tốc độ học gần như lý tưởng, hoạt động rất tốt và một vài lựa chọn.\n",
        "\n",
        "Chúng ta có thể:\n",
        "* Đánh giá chất lượng bằng một phép đo phân loại khác ([confusion matrix](https://scikit-learn.org/stable/auto_examples/model_selection/plot_confusion_matrix.html#sphx-glr-auto-examples-model-selection-plot-confusion-matrix-py) hoặc [classification report](https://scikit-learn.org/stable/modules/generated/sklearn.metrics.classification_report.html)).\n",
        "* Đánh giá một số dự đoán của mô hình (bằng cách trực quan).\n",
        "* Cải thiện độ chính xác (huấn luyện lâu hơn hoặc thay đổi kiến trúc).\n",
        "* Lưu và xuất để dùng nó trong ứng dụng.\n",
        "\n",
        "Hãy xem xét hai tùy chọn đầu tiên.\n",
        "\n",
        "Trước tiên chúng ta sẽ tạo một ma trận phân loại để hiển thị dự đoán trên các lớp khác nhau."
      ]
    },
    {
      "cell_type": "code",
      "execution_count": null,
      "metadata": {
        "id": "jK4zA47sYVp5"
      },
      "outputs": [],
      "source": [
        "# Lưu ý: Code sau của confusion matrix là bản phối lại của Scikit-Learn giữa\n",
        "# hàm plot_confusion_matrix - https://scikit-learn.org/stable/modules/generated/sklearn.metrics.plot_confusion_matrix.html\n",
        "# và notebook giới thiệu của Made with ML - https://github.com/GokuMohandas/MadeWithML/blob/main/notebooks/08_Neural_Networks.ipynb\n",
        "import itertools\n",
        "from sklearn.metrics import confusion_matrix\n",
        "\n",
        "# Hàm cần một tên khác cho plot_confusion_matrix của sklearn\n",
        "def make_confusion_matrix(y_true, y_pred, classes=None, figsize=(10, 10), text_size=15):\n",
        "  \"\"\"Tạo một confusion matrix đã dán nhãn so sánh với các dự đoán và nhãn gốc.\n",
        "\n",
        "  Nếu lớp được truyền, confusion matrix sẽ được gắn nhãn, nếu không sẽ dùng các giá trị integer class.\n",
        "\n",
        "\n",
        "  Đối số:\n",
        "    y_true: Mảng gồm các truth label (phải có shape giống với y_pred).\n",
        "    y_pred: Mảng gồm các nhãn đã được dự đoán (phải có shape giống với y_true).\n",
        "    classes: Mảng gồm các nhãn lớp (chẳng hạn: dạng string). Nếu là `None` sẽ dùng các nhãn số nguyên.\n",
        "    figsize: Kích thước của output figure (default=(10, 10)).\n",
        "    text_size: Kích thước của văn bản output figure (default=15).\n",
        "\n",
        "  Trả về:\n",
        "    Biểu đồ confusion matrix đã dán nhãn so với y_true và y_pred.\n",
        "\n",
        "  Ví dụ:\n",
        "    make_confusion_matrix(y_true=test_labels, # nhãn gốc test_label\n",
        "                          y_pred=y_preds, # nhãn đã đoán\n",
        "                          classes=class_names, # mảng gồm tên nhãn lớp\n",
        "                          figsize=(15, 15),\n",
        "                          text_size=10)\n",
        "  \"\"\"\n",
        "  # Tạo confustion matrix\n",
        "  cm = confusion_matrix(y_true, y_pred)\n",
        "  cm_norm = cm.astype(\"float\") / cm.sum(axis=1)[:, np.newaxis] # normalize it\n",
        "  n_classes = cm.shape[0] # find the number of classes we're dealing with\n",
        "\n",
        "  # Vẽ figure và chỉnh cho nó đẹp hơn\n",
        "  fig, ax = plt.subplots(figsize=figsize)\n",
        "  cax = ax.matshow(cm, cmap=plt.cm.Blues) # màu sắc thể hiện độ 'đúng' của một lớp, càng đậm tức là càng tốt hơn\n",
        "  fig.colorbar(cax)\n",
        "\n",
        "  # Có danh sách các lớp không?\n",
        "  if classes:\n",
        "    labels = classes\n",
        "  else:\n",
        "    labels = np.arange(cm.shape[0])\n",
        "\n",
        "  # Dán nhãn các trục\n",
        "  ax.set(title=\"Confusion Matrix\",\n",
        "         xlabel=\"Predicted label\",\n",
        "         ylabel=\"True label\",\n",
        "         xticks=np.arange(n_classes), # tạo đủ trục cho từng lớp\n",
        "         yticks=np.arange(n_classes),\n",
        "         xticklabels=labels, # các trục sẽ được gắn nhãn tên lớp (nếu chúng tồn tại) hoặc int\n",
        "         yticklabels=labels)\n",
        "\n",
        "  # Làm cho các nhãn trục x xuất hiện ở dưới cùng\n",
        "  ax.xaxis.set_label_position(\"bottom\")\n",
        "  ax.xaxis.tick_bottom()\n",
        "\n",
        "  # Thiết lập ngưỡng cho các màu khác nhau\n",
        "  threshold = (cm.max() + cm.min()) / 2.\n",
        "\n",
        "  # Lập biểu đồ văn bản ở từng cell\n",
        "  for i, j in itertools.product(range(cm.shape[0]), range(cm.shape[1])):\n",
        "    plt.text(j, i, f\"{cm[i, j]} ({cm_norm[i, j]*100:.1f}%)\",\n",
        "             horizontalalignment=\"center\",\n",
        "             color=\"white\" if cm[i, j] > threshold else \"black\",\n",
        "             size=text_size)"
      ]
    },
    {
      "cell_type": "markdown",
      "metadata": {
        "id": "Mi5kNRyZdyXA"
      },
      "source": [
        "Do confusion matrix so sánh nhãn đúng (`test_labels`) với các nhãn được dự đoán nên chúng ta cần đưa ra dự đoán với mô hình."
      ]
    },
    {
      "cell_type": "code",
      "execution_count": null,
      "metadata": {
        "colab": {
          "base_uri": "https://localhost:8080/"
        },
        "id": "HhxrXhrjbjja",
        "outputId": "233e9970-46b4-4170-fdb3-ba1691d8cb81"
      },
      "outputs": [
        {
          "data": {
            "text/plain": [
              "array([[8.5630336e-11, 3.5361509e-13, 2.6633865e-05, 4.6356046e-08,\n",
              "        5.0950021e-05, 9.6119225e-02, 8.1778381e-08, 9.1868617e-02,\n",
              "        4.0605213e-03, 8.0787390e-01],\n",
              "       [3.4278683e-06, 1.2899412e-16, 9.5989138e-01, 2.0516255e-07,\n",
              "        1.5329245e-02, 2.4532243e-13, 2.4142915e-02, 1.1383623e-28,\n",
              "        6.3271803e-04, 4.4789552e-08],\n",
              "       [6.1063176e-05, 9.9657673e-01, 4.3867061e-08, 3.3405994e-03,\n",
              "        1.3249499e-05, 1.4383491e-21, 8.2790693e-06, 7.3237471e-18,\n",
              "        5.4811817e-08, 4.9225428e-14],\n",
              "       [7.5031145e-05, 9.9053687e-01, 4.2528288e-07, 9.2231687e-03,\n",
              "        1.3623090e-04, 1.8276231e-18, 2.6808115e-05, 4.8124743e-14,\n",
              "        1.4521548e-06, 2.2211462e-11],\n",
              "       [7.2190031e-02, 1.5495797e-06, 2.5566885e-01, 1.0363121e-02,\n",
              "        4.3541368e-02, 1.1069260e-13, 6.1693019e-01, 6.7543135e-23,\n",
              "        1.3049162e-03, 1.2140360e-09]], dtype=float32)"
            ]
          },
          "execution_count": 81,
          "metadata": {
            "tags": []
          },
          "output_type": "execute_result"
        }
      ],
      "source": [
        "# Đưa ra dự đoán với mô hình gần đây nhất\n",
        "y_probs = model_14.predict(test_data) # \"probs\" là viết tắt của probabilities (xác suất)\n",
        "\n",
        "# Xem 5 dự đoán đầu tiên\n",
        "y_probs[:5]"
      ]
    },
    {
      "cell_type": "markdown",
      "metadata": {
        "id": "eP5zslXbf5ZY"
      },
      "source": [
        "Mô hình của chúng ta xuất ra một danh sách **xác suất dự đoán**, tức là nó xuất ra các số cho biết khả năng một lớp cụ thể là nhãn.\n",
        "\n",
        "Số trong danh sách xác suất càng cao thì mô hình càng tin đó là lớp đúng.\n",
        "\n",
        "Để tìm giá trị cao nhất, hãy sử dụng phương thức [`argmax()`](https://numpy.org/doc/stable/reference/generated/numpy.argmax.html)."
      ]
    },
    {
      "cell_type": "code",
      "execution_count": null,
      "metadata": {
        "colab": {
          "base_uri": "https://localhost:8080/"
        },
        "id": "hQvrJbbWf4Es",
        "outputId": "ad419229-bee6-471b-e01d-d2eb74d4eac6"
      },
      "outputs": [
        {
          "data": {
            "text/plain": [
              "(9, 'Ankle boot')"
            ]
          },
          "execution_count": 82,
          "metadata": {
            "tags": []
          },
          "output_type": "execute_result"
        }
      ],
      "source": [
        "# Xem số lớp đã dự đoán và nhãn cho mẫu đầu tiên\n",
        "y_probs[0].argmax(), class_names[y_probs[0].argmax()]"
      ]
    },
    {
      "cell_type": "markdown",
      "metadata": {
        "id": "BFPgnBCghrTz"
      },
      "source": [
        "Thực hiện tương tự với toàn bộ dự đoán."
      ]
    },
    {
      "cell_type": "code",
      "execution_count": null,
      "metadata": {
        "colab": {
          "base_uri": "https://localhost:8080/"
        },
        "id": "ozUpeZU6g2An",
        "outputId": "28818148-2308-4990-87f3-2a33a61b0bb5"
      },
      "outputs": [
        {
          "data": {
            "text/plain": [
              "array([9, 2, 1, 1, 6, 1, 4, 6, 5, 7])"
            ]
          },
          "execution_count": 83,
          "metadata": {
            "tags": []
          },
          "output_type": "execute_result"
        }
      ],
      "source": [
        "# Chuyển toàn bộ dự đoán từ xác suất thành nhãn\n",
        "y_preds = y_probs.argmax(axis=1)\n",
        "\n",
        "# Xem 10 dự đoán đầu tiên\n",
        "y_preds[:10]"
      ]
    },
    {
      "cell_type": "markdown",
      "metadata": {
        "id": "47g1wNk6iYTd"
      },
      "source": [
        "Chúng ta đã thu được các dự đoán của mô hình ở dạng nhãn, hãy tạo một confusion matrix để xem chúng so với nhãn đúng."
      ]
    },
    {
      "cell_type": "code",
      "execution_count": null,
      "metadata": {
        "colab": {
          "base_uri": "https://localhost:8080/"
        },
        "id": "FBMSVSRqcU_m",
        "outputId": "10013456-e069-49ea-8bb8-2c0bc3da0829"
      },
      "outputs": [
        {
          "data": {
            "text/plain": [
              "array([[696,   8,  25,  87,   9,   5, 160,   0,  10,   0],\n",
              "       [  2, 939,   2,  35,   9,   0,  13,   0,   0,   0],\n",
              "       [ 19,   2, 656,  10, 188,   0, 110,   0,  15,   0],\n",
              "       [ 39,  10,  10, 819,  55,   0,  47,   1,  19,   0],\n",
              "       [  0,   0,  95,  23, 800,   0,  73,   0,   7,   2],\n",
              "       [  0,   0,   1,   0,   0, 894,   0,  60,   7,  38],\n",
              "       [106,   4, 158,  57, 159,   1, 499,   0,  16,   0],\n",
              "       [  0,   0,   0,   0,   0,  31,   0, 936,   0,  33],\n",
              "       [  4,   1,  38,  15,   8,  12,   9,   5, 906,   2],\n",
              "       [  0,   0,   1,   0,   2,  15,   0,  51,   1, 930]])"
            ]
          },
          "execution_count": 84,
          "metadata": {
            "tags": []
          },
          "output_type": "execute_result"
        }
      ],
      "source": [
        "# Kiểm tra confusion matrix không được làm đẹp\n",
        "from sklearn.metrics import confusion_matrix\n",
        "confusion_matrix(y_true=test_labels,\n",
        "                 y_pred=y_preds)"
      ]
    },
    {
      "cell_type": "markdown",
      "metadata": {
        "id": "ql-TQxuYiqPl"
      },
      "source": [
        "Confusion matrix đó khá khó hiểu, hãy làm cho nó dễ nhìn hơn bằng cách sử dụng hàm mà chúng ta đã tạo trước đó."
      ]
    },
    {
      "cell_type": "code",
      "execution_count": null,
      "metadata": {
        "colab": {
          "base_uri": "https://localhost:8080/",
          "height": 852
        },
        "id": "DLr6daZAbzRi",
        "outputId": "cf18064b-40e3-4256-ed67-a57e33a94cb7"
      },
      "outputs": [
        {
          "data": {
            "image/png": "[encoded data removed]",
            "text/plain": [
              "<Figure size 1080x1080 with 2 Axes>"
            ]
          },
          "metadata": {
            "needs_background": "light",
            "tags": []
          },
          "output_type": "display_data"
        }
      ],
      "source": [
        "# Tạo confusion matrix đẹp hơn\n",
        "make_confusion_matrix(y_true=test_labels,\n",
        "                      y_pred=y_preds,\n",
        "                      classes=class_names,\n",
        "                      figsize=(15, 15),\n",
        "                      text_size=10)"
      ]
    },
    {
      "cell_type": "markdown",
      "metadata": {
        "id": "tH3FhuGEjTu9"
      },
      "source": [
        "Trông tốt hơn nhiều rồi! (một trong những điểm nhìn yêu thích của tôi là confusion matrix với các ô vuông tối theo đường chéo).\n",
        "\n",
        "Ngoại trừ kết quả không tốt như mong đợi ...\n",
        "\n",
        "Có vẻ như mô hình của chúng ta đang bị nhầm lẫn giữa các lớp `Shirt` và `T-shirt/top` (ví dụ: dự đoán là `Shirt` trong khi đó thực ra là `T-shirt/top`).\n",
        "\n",
        "> 🤔 **Câu hỏi:** Có phải mô hình của chúng ta đang bị nhầm lẫn giữa các lớp `Shirt` và `T-shirt/top` không? Tại sao bạn nghĩ rằng điều này có thể xảy ra? Làm thế nào để kiểm tra?\n",
        "\n",
        "Chúng ta đã thấy cách các dự đoán mô hình sắp xếp theo truth label bằng cách sử dụng confusion matrix, nhưng làm thế nào để hình dung một vài dự đoán?\n",
        "\n",
        "Hãy tạo một hàm để vẽ ảnh ngẫu nhiên cùng với dự đoán của nó.\n",
        "\n",
        "> 🔑 **Lưu ý:** Thông thường khi làm việc với hình ảnh và các dạng dữ liệu trực quan khác, chúng ta nên trực quan hóa càng nhiều càng tốt để hiểu thêm về dữ liệu và kết quả đầu ra của mô hình."
      ]
    },
    {
      "cell_type": "code",
      "execution_count": null,
      "metadata": {
        "id": "2XIuAjgJri9e"
      },
      "outputs": [],
      "source": [
        "import random\n",
        "\n",
        "# Tạo hàm vẽ ảnh ngẫu nhiên cùng với các dự đoán của nó\n",
        "def plot_random_image(model, images, true_labels, classes):\n",
        "  \"\"\"Chọn một ảnh ngẫu nhiên, vẽ và dán nhãn nó với nhãn đúng và nhãn đã dự đoán.\n",
        "\n",
        "  Đối số:\n",
        "    model: mô hình đã huấn luyện (huấn luyện trên dữ liệu tương tự với dữ liệu trong ảnh.)\n",
        "    images: tập hợp các ảnh ngẫu nhiên (ở dạng tensor).\n",
        "    true_labels: mảng các nhãn gốc cho ảnh.\n",
        "    classes: mảng các tên lớp cho anhe.\n",
        "\n",
        "  Trả về:\n",
        "    Biểu đồ ảnh ngẫu nhiên từ `images` với nhãn lớp đã dự đoán từ `model`\n",
        "    cũng như nhãn lớp đúng từ `true_labels`.\n",
        "  \"\"\"\n",
        "  # Thiết lập random integer\n",
        "  i = random.randint(0, len(images))\n",
        "\n",
        "  # Tạo các mục tiêu và dự đoán\n",
        "  target_image = images[i]\n",
        "  pred_probs = model.predict(target_image.reshape(1, 28, 28)) # cần reshape để mô hình có đúng kích thước\n",
        "  pred_label = classes[pred_probs.argmax()]\n",
        "  true_label = classes[true_labels[i]]\n",
        "\n",
        "  # Vẽ ảnh mục tiêu\n",
        "  plt.imshow(target_image, cmap=plt.cm.binary)\n",
        "\n",
        "  # Thay đổi màu của tiêu đề tùy xem dự đoán đúng hay sai\n",
        "  if pred_label == true_label:\n",
        "    color = \"green\"\n",
        "  else:\n",
        "    color = \"red\"\n",
        "\n",
        "  # Thêm thông tin xlabel (prediction/true label)\n",
        "  plt.xlabel(\"Pred: {} {:2.0f}% (True: {})\".format(pred_label,\n",
        "                                                   100*tf.reduce_max(pred_probs),\n",
        "                                                   true_label),\n",
        "             color=color) # đặt color là green hoặc red"
      ]
    },
    {
      "cell_type": "code",
      "execution_count": null,
      "metadata": {
        "colab": {
          "base_uri": "https://localhost:8080/",
          "height": 279
        },
        "id": "RAAIrpcEumyE",
        "outputId": "8d738d0c-bbdd-419b-e477-d4bd56000d07"
      },
      "outputs": [
        {
          "data": {
            "image/png": "[encoded data removed]",
            "text/plain": [
              "<Figure size 432x288 with 1 Axes>"
            ]
          },
          "metadata": {
            "needs_background": "light",
            "tags": []
          },
          "output_type": "display_data"
        }
      ],
      "source": [
        "# Kiểm tra ảnh ngẫu nhiên cũng như dự đoán của nó\n",
        "plot_random_image(model=model_14,\n",
        "                  images=test_data,\n",
        "                  true_labels=test_labels,\n",
        "                  classes=class_names)"
      ]
    },
    {
      "cell_type": "markdown",
      "metadata": {
        "id": "FNebpPbCw52S"
      },
      "source": [
        "Sau khi chạy cell trên một vài lần, chúng ta sẽ bắt đầu hiểu được mối quan hệ giữa các dự đoán của mô hình và các nhãn thực.\n",
        "\n",
        "Bạn có thấy dự đoán nào mà mô hình bị nhầm lẫn không?\n",
        "\n",
        "Dường như nó đang nhầm các lớp tương tự nhau, ví dụ: `Sneaker` với `Ankle boot`.\n",
        "\n",
        "Nhìn vào hình ảnh, chúng ta có thể thấy trường hợp này xảy ra thế nào.\n",
        "\n",
        "Shape tổng thể của `Sneaker` và `Ankle Boot` tương tự nhau.\n",
        "\n",
        "Shape tổng thể có thể là một trong những pattern mà mô hình học được, do đó khi hai hình ảnh có shape giống nhau, các dự đoán của chúng sẽ bị nhầm lẫn."
      ]
    },
    {
      "cell_type": "markdown",
      "metadata": {
        "id": "pOwM1rqhx6p3"
      },
      "source": [
        "### Mô hình của chúng ta đang học những pattern nào?\n",
        "\n",
        "Chúng ta đã nói rất nhiều về cách mạng nơ-ron tìm thấy pattern ở dạng số, nhưng chính xác thì các pattern này trông như thế nào?\n",
        "\n",
        "Hãy mở một mô hình và tìm hiểu.\n",
        "\n",
        "Đầu tiên, chúng ta sẽ nhận được danh sách các layer của mô hình gần đây nhất (`model_14`) bằng cách sử dụng thuộc tính `layers`."
      ]
    },
    {
      "cell_type": "code",
      "execution_count": null,
      "metadata": {
        "colab": {
          "base_uri": "https://localhost:8080/"
        },
        "id": "kcwMsgFuySTi",
        "outputId": "7d4a6c54-e33f-409c-8b15-a51adf3e140d"
      },
      "outputs": [
        {
          "data": {
            "text/plain": [
              "[<tensorflow.python.keras.layers.core.Flatten at 0x7f4254285780>,\n",
              " <tensorflow.python.keras.layers.core.Dense at 0x7f42542856a0>,\n",
              " <tensorflow.python.keras.layers.core.Dense at 0x7f4254285c50>,\n",
              " <tensorflow.python.keras.layers.core.Dense at 0x7f425428ecc0>]"
            ]
          },
          "execution_count": 89,
          "metadata": {
            "tags": []
          },
          "output_type": "execute_result"
        }
      ],
      "source": [
        "# Tìm các layer của mô hình gần đây nhất\n",
        "model_14.layers"
      ]
    },
    {
      "cell_type": "markdown",
      "metadata": {
        "id": "w9si0o-h4oO1"
      },
      "source": [
        "Chúng ta có thể truy cập layer mục tiêu bằng cách lập chỉ mục."
      ]
    },
    {
      "cell_type": "code",
      "execution_count": null,
      "metadata": {
        "colab": {
          "base_uri": "https://localhost:8080/"
        },
        "id": "DXuQmsNX1mGR",
        "outputId": "7d9a57b4-150e-43f2-f5ce-43b8f6b82a95"
      },
      "outputs": [
        {
          "data": {
            "text/plain": [
              "<tensorflow.python.keras.layers.core.Dense at 0x7f42542856a0>"
            ]
          },
          "execution_count": 90,
          "metadata": {
            "tags": []
          },
          "output_type": "execute_result"
        }
      ],
      "source": [
        "# Trích xuất một layer cụ thể\n",
        "model_14.layers[1]"
      ]
    },
    {
      "cell_type": "markdown",
      "metadata": {
        "id": "W6Cftaib4uG-"
      },
      "source": [
        "Chúng ta có thể tìm ra các pattern được học bởi một layer cụ thể bằng phương thức `get_weights()`.\n",
        "\n",
        "Phương thức `get_weights()` trả về **trọng số**  (còn được gọi là ma trận trọng số) và độ lệch (còn được gọi là vectơ độ chệch) của một layer cụ thể."
      ]
    },
    {
      "cell_type": "code",
      "execution_count": null,
      "metadata": {
        "colab": {
          "base_uri": "https://localhost:8080/"
        },
        "id": "WdmZy5xi1srE",
        "outputId": "fef68ed6-a7a5-48b6-b55f-271780550044"
      },
      "outputs": [
        {
          "data": {
            "text/plain": [
              "(array([[ 0.7150263 , -0.06077094, -0.99763054, -1.048431  ],\n",
              "        [ 0.27732128, -0.47155392, -0.5291646 ,  0.02329262],\n",
              "        [ 0.775243  ,  0.540276  , -1.1288569 , -0.7426157 ],\n",
              "        ...,\n",
              "        [-0.39453438,  0.47628698, -0.22641574,  0.25505954],\n",
              "        [-0.4051576 ,  0.6181001 ,  0.23928389, -0.5038765 ],\n",
              "        [ 0.23884599,  0.11606929, -0.12131333,  0.04352435]],\n",
              "       dtype=float32), (784, 4))"
            ]
          },
          "execution_count": 91,
          "metadata": {
            "tags": []
          },
          "output_type": "execute_result"
        }
      ],
      "source": [
        "# Lấy các pattern của một layer trong mạng\n",
        "weights, biases = model_14.layers[1].get_weights()\n",
        "\n",
        "# Shape = 1 ma trận trọng số kích thước của dữ liệu đầu vào (28x28) mỗi nơ-ron (4)\n",
        "weights, weights.shape"
      ]
    },
    {
      "cell_type": "markdown",
      "metadata": {
        "id": "yCjuNSD73oG0"
      },
      "source": [
        "Ma trận trọng số có cùng shape với dữ liệu đầu vào, trong trường hợp này là 784 (28x28 pixel). Và có một bản sao của ma trận trọng số cho mỗi nơ-ron trong layer đã chọn (layer đã chọn có 4 nơ-ron).\n",
        "\n",
        "Mỗi giá trị trong ma trận trọng số tương ứng với cách một giá trị cụ thể trong dữ liệu đầu vào ảnh hưởng đến các quyết định của mạng.\n",
        "\n",
        "Các giá trị này bắt đầu dưới dạng số ngẫu nhiên (được thiết lập bởi [tham số `kernel_initializer`](https://www.tensorflow.org/api_docs/python/tf/keras/layers/Dense) khi tạo layer, mặc định là [`\"glorot_uniform\"`](https://www.tensorflow.org/api_docs/python/tf/keras/initializers/GlorotUniform)), sau đó được cập nhật thành các giá trị biểu diễn tốt hơn của dữ liệu (không ngẫu nhiên) bởi mạng nơ-ron trong quá trình huấn luyện.\n",
        "\n",
        "![neural network supervised learning weight updates](https://raw.githubusercontent.com/mrdbourke/tensorflow-deep-learning/main/images/02-fashion-mnist-learning.png)\n",
        "*Quy trình mẫu: cách mạng nơ-ron có giám sát bắt đầu với trọng số ngẫu nhiên và cập nhật chúng để biểu diễn dữ liệu tốt hơn bằng cách xem xét các mẫu đầu ra lý tưởng.*\n",
        "\n",
        "Bây giờ, hãy kiểm tra vectơ độ chệch."
      ]
    },
    {
      "cell_type": "code",
      "execution_count": null,
      "metadata": {
        "colab": {
          "base_uri": "https://localhost:8080/"
        },
        "id": "ndG-h2yz1z2_",
        "outputId": "5a796e82-7035-4982-af38-0e6968346955"
      },
      "outputs": [
        {
          "data": {
            "text/plain": [
              "(array([ 2.4485605e-02, -6.1463297e-04, -2.7230164e-01,  8.1124890e-01],\n",
              "       dtype=float32), (4,))"
            ]
          },
          "execution_count": 92,
          "metadata": {
            "tags": []
          },
          "output_type": "execute_result"
        }
      ],
      "source": [
        "# Shape = 1 bias mỗi nơ-ron (chúng ta sử dụng 4 nơ-ron ở layer đầu tiên)\n",
        "biases, biases.shape"
      ]
    },
    {
      "cell_type": "markdown",
      "metadata": {
        "id": "3JRQFh3U374U"
      },
      "source": [
        "Mỗi nơ-ron lại có một vectơ độ chệch. Mỗi vectơ độ chệch được ghép nối với một ma trận trọng số.\n",
        "\n",
        "Các giá trị độ chệch được khởi tạo bằng 0 theo mặc định (sử dụng [tham số `bias_initializer`](https://www.tensorflow.org/api_docs/python/tf/keras/layers/Dense)).\n",
        "\n",
        "Vectơ độ chệch chỉ ra mức độ ảnh hưởng của các pattern trong ma trận trọng số tương ứng với layer kế tiếp."
      ]
    },
    {
      "cell_type": "code",
      "execution_count": null,
      "metadata": {
        "colab": {
          "base_uri": "https://localhost:8080/"
        },
        "id": "_QCUb7GeSGYF",
        "outputId": "4be03d8a-1a72-4f35-874f-20c0495ddd1f"
      },
      "outputs": [
        {
          "name": "stdout",
          "output_type": "stream",
          "text": [
            "Model: \"sequential_14\"\n",
            "_________________________________________________________________\n",
            "Layer (type)                 Output Shape              Param #   \n",
            "=================================================================\n",
            "flatten_3 (Flatten)          (None, 784)               0         \n",
            "_________________________________________________________________\n",
            "dense_37 (Dense)             (None, 4)                 3140      \n",
            "_________________________________________________________________\n",
            "dense_38 (Dense)             (None, 4)                 20        \n",
            "_________________________________________________________________\n",
            "dense_39 (Dense)             (None, 10)                50        \n",
            "=================================================================\n",
            "Total params: 3,210\n",
            "Trainable params: 3,210\n",
            "Non-trainable params: 0\n",
            "_________________________________________________________________\n"
          ]
        }
      ],
      "source": [
        "# Tính số lượng tham số trong mô hình\n",
        "model_14.summary()"
      ]
    },
    {
      "cell_type": "markdown",
      "metadata": {
        "id": "trRRZLIRyLXe"
      },
      "source": [
        "Bây giờ chúng ta đã xây dựng một vài mô hình học sâu, đây là thời điểm tốt để chỉ ra rằng toàn bộ khái niệm đầu vào và đầu ra không chỉ liên quan đến mô hình nói chung mà còn liên quan tới *mọi* layer trong mô hình.\n",
        "\n",
        "Bạn có thể đã đoán được điều này, nhưng bắt đầu từ layer đầu vào, đầu vào của mỗi layer tiếp theo sẽ là đầu ra của layer trước đó.\n",
        "\n",
        "Chúng ta có thể thấy rõ điều này bằng cách sử dụng [`plot_model()`](https://www.tensorflow.org/api_docs/python/tf/keras/utils/plot_model)."
      ]
    },
    {
      "cell_type": "code",
      "execution_count": null,
      "metadata": {
        "colab": {
          "base_uri": "https://localhost:8080/",
          "height": 533
        },
        "id": "YJD0GqGl3NY0",
        "outputId": "516453c8-fc1c-48d0-ca1e-d1a55bf9b61c"
      },
      "outputs": [
        {
          "data": {
            "image/png": "[encoded data removed]",
            "text/plain": [
              "<IPython.core.display.Image object>"
            ]
          },
          "execution_count": 94,
          "metadata": {
            "tags": []
          },
          "output_type": "execute_result"
        }
      ],
      "source": [
        "from tensorflow.keras.utils import plot_model\n",
        "\n",
        "# Xem đầu vào và đầu ra của từng layer\n",
        "plot_model(model_14, show_shapes=True)"
      ]
    },
    {
      "cell_type": "markdown",
      "metadata": {
        "id": "OY5HO72ATJR4"
      },
      "source": [
        "## Cách mô hình học (tóm tắt)\n",
        "\n",
        "Chúng ta đã huấn luyện rất nhiều mô hình, nhưng chưa bao giờ thực sự thảo luận sâu về nó. Vậy chính xác thì một mô hình học như thế nào?\n",
        "\n",
        "Mô hình học bằng cách cập nhật và cải thiện ma trận trọng số và giá trị độ chệch mỗi epoch (trong trường hợp này, chúng ta gọi hàm `fit()`).\n",
        "\n",
        "Nó thực hiện bằng cách so sánh các pattern đã học giữa dữ liệu và nhãn với nhãn thực tế.\n",
        "\n",
        "Nếu các pattern hiện tại (ma trận trọng số và giá trị độ chệch) không làm giảm hàm mất mát mong muốn (loss cao hơn nghĩa là dự đoán tệ hơn) thì optimizer sẽ cố gắng hướng mô hình cập nhật các pattern theo cách phù hợp (sử dụng giá trị thực nhãn làm tham chiếu).\n",
        "\n",
        "Quá trình sử dụng các nhãn thực làm tham chiếu để cải thiện các dự đoán của mô hình được gọi là [**backpropagation (lan truyền ngược)**](https://en.wikipedia.org/wiki/Backpropagation).\n",
        "\n",
        "Nói cách khác, dữ liệu và nhãn truyền qua một mô hình (**truyền xuôi**) và nó cố gắng tìm hiểu mối quan hệ giữa dữ liệu và nhãn.\n",
        "\n",
        "Và nếu mối quan hệ tìm hiểu được này không gần với mối quan hệ thực tế hoặc nó có thể cải thiện, thì mô hình sẽ tự quay lại (**truyền ngược**), điều chỉnh ma trận trọng số và giá trị độ chệch để biểu diễn dữ liệu tốt hơn.\n",
        "\n",
        "Nếu tất cả những điều này còn khó hiểu (không sao cả, ở trên là mô tả rất ngắn gọn), hãy xem tài liệu trong phần Tài liệu tham khảo để biết thêm."
      ]
    },
    {
      "cell_type": "markdown",
      "metadata": {
        "id": "LXmMG6fcpoIp"
      },
      "source": [
        "## 🛠 Bài tập thực hành\n",
        "> **Lưu ý:** Các bạn cần làm phần bài tập này để chuẩn bị cho phiên review lab.\n",
        "\n",
        "1. Luyện tập với mạng nơ-ron khoảng 10 phút trong [TensorFlow Playground](https://playground.tensorflow.org/). Hãy thử các giá trị learning rate khác nhau và xem điều gì sẽ xảy ra nếu tăng hoặc giảm các giá trị này.\n",
        "2. Sao chép mô hình trong hình sau ở [TensorFlow Playground diagram](https://playground.tensorflow.org/#activation=relu&batchSize=10&dataset=circle&regDataset=reg-plane&learningRate=0.001&regularizationRate=0&noise=0&networkShape=6,6,6,6,6&seed=0.51287&showTestData=false&discretize=false&percTrainData=50&x=true&y=true&xTimesY=false&xSquared=false&ySquared=false&cosX=false&sinX=false&cosY=false&sinY=false&collectStats=false&problem=classification&initZero=false&hideText=false&regularization_hide=true&discretize_hide=true&regularizationRate_hide=true&percTrainData_hide=true&dataset_hide=true&problem_hide=true&noise_hide=true&batchSize_hide=true) bằng code của TensorFlow. Biên dịch nó với Adam optimizer, binary cross-entropy loss và accuracy; sau đó kiểm tra bản tóm tắt của mô hình.\n",
        "![tensorflow playground example neural network](https://raw.githubusercontent.com/mrdbourke/tensorflow-deep-learning/main/images/02-tensorflow-playground-replication-exercise.png)\n",
        "\n",
        "*Thử mạng này trong [TensorFlow Playground](https://playground.tensorflow.org/#activation=relu&batchSize=10&dataset=circle&regDataset=reg-plane&learningRate=0.001&regularizationRate=0&noise=0&networkShape=6,6,6,6,6&seed=0.51287&showTestData=false&discretize=false&percTrainData=50&x=true&y=true&xTimesY=false&xSquared=false&ySquared=false&cosX=false&sinX=false&cosY=false&sinY=false&collectStats=false&problem=classification&initZero=false&hideText=false&regularization_hide=true&discretize_hide=true&regularizationRate_hide=true&percTrainData_hide=true&dataset_hide=true&problem_hide=true&noise_hide=true&batchSize_hide=true). Gợi ý: có 5 lớp ẩn nhưng lớp đầu ra không được mô tả, các bạn cần quyết định lớp đầu ra dựa trên dữ liệu đầu vào.*\n",
        "\n",
        "3. Tạo một tập dữ liệu phân loại bằng hàm [`make_moons()`](https://scikit-learn.org/stable/modules/generated/sklearn.datasets.make_moons.html) của Scikit-learn, trực quan hóa nó rồi xây dựng một mô hình để khớp với độ chính xác trên 85%.\n",
        "4. Tạo một hàm (hoặc viết code) để hiển thị đồng thời nhiều dự đoán hình ảnh cho fashion MNIST. Lập biểu đồ ít nhất 3 hình ảnh khác nhau và nhãn dự đoán của chúng cùng một lúc.\n",
        "5. Tạo lại [hàm softmax](https://en.wikipedia.org/wiki/Softmax_function) của [TensorFlow](https://www.tensorflow.org/api_docs/python/tf/keras/activations/softmax) trong code riêng của bạn. Đảm bảo nó có thể chấp nhận tensor và trả về tensor sau khi áp dụng hàm softmax.\n",
        "6. Huấn luyện mô hình để đạt được độ chính xác trên 88% trên tập kiểm tra fashion MNIST. Sau đó, lập biểu đồ confusion matrix để xem kết quả.\n",
        "7. Tạo hàm để hiển thị hình ảnh của một lớp nhất định trong tập dữ liệu fashion MNIST và đưa ra dự đoán trên đó. Ví dụ: vẽ 3 hình của lớp `T-shirt` với các dự đoán của chúng.\n",
        "\n"
      ]
    },
    {
      "cell_type": "markdown",
      "metadata": {
        "id": "oksgPs-meGHj"
      },
      "source": [
        "## Tài liệu đọc thêm 📖\n",
        "* Xem video số 2 về mạng nơ-ron của 3Blue1Brown: [*Gradient descent, how neural networks learn*](https://www.youtube.com/watch?v=IHZwWFHWa-w). Sau đó, viết khoảng 100 từ về những gì bạn học được.\n",
        "  *  Nếu chưa sẵn sàng, hãy xem video 1: [*But what is a Neural Network?*](https://youtu.be/aircAruvnKk). Lưu ý hàm kích hoạt mà họ nói tới ở cuối.\n",
        "* Xem video [MIT's introduction to deep learning lecture 1](https://youtu.be/njKP3FqW3Sk) (nếu chưa sẵn sàng) để hiểu các khái niệm sau việc sử dụng các hàm tuyến tính và phi tuyến tính.\n",
        "*  Dành 1 giờ đọc cuốn sách [Neural Networks and Deep Learning](http://neuralnetworksanddeeplearning.com/index.html) (Michael Nielsen).\n",
        "* Đọc tài liệu về [activation functions của ML Glossary](https://ml-cheatsheet.readthedocs.io/en/latest/activation_functions.html). Bạn thích phần nào nhất?\n",
        "  * Sau khi đọc xong ML-Glossary, hãy tìm \"tensorflow activation functions\" để xem hàm kích hoạt nào có sẵn trong TensorFlow."
      ]
    }
  ],
  "metadata": {
    "colab": {
      "provenance": [],
      "toc_visible": true
    },
    "kernelspec": {
      "display_name": "Python 3",
      "name": "python3"
    },
    "language_info": {
      "codemirror_mode": {
        "name": "ipython",
        "version": 3
      },
      "file_extension": ".py",
      "mimetype": "text/x-python",
      "name": "python",
      "nbconvert_exporter": "python",
      "pygments_lexer": "ipython3",
      "version": "3.9.16"
    }
  },
  "nbformat": 4,
  "nbformat_minor": 0
}

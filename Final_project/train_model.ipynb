{
 "cells": [
  {
   "cell_type": "code",
   "execution_count": 59,
   "metadata": {},
   "outputs": [],
   "source": [
    "import os\n",
    "import numpy as np\n",
    "from PIL import Image\n",
    "from keras.datasets import mnist\n",
    "from keras.models import Sequential\n",
    "from keras.layers import Dense, Dropout\n",
    "from tensorflow.python.keras.utils import np_utils"
   ]
  },
  {
   "cell_type": "code",
   "execution_count": 60,
   "metadata": {},
   "outputs": [],
   "source": [
    "def create_dataset(img_folder):\n",
    "    img_data_array = []\n",
    "    labels = []\n",
    "    for filename in os.listdir(img_folder):\n",
    "        if filename.endswith(\".png\"):\n",
    "            img = Image.open(os.path.join(img_folder, filename))\n",
    "            img_array = np.array(img)\n",
    "            img_data_array.append(img_array)\n",
    "            label = int(filename[3])\n",
    "            labels.append(label)\n",
    "    return img_data_array, labels"
   ]
  },
  {
   "cell_type": "code",
   "execution_count": 61,
   "metadata": {},
   "outputs": [],
   "source": [
    "img_data, labels = create_dataset('imgs')\n",
    "img_data = np.array(img_data)\n",
    "labels = np.array(labels)\n",
    "img_data = img_data.reshape(len(img_data), 784)\n",
    "img_data = img_data.astype('float32') / 255\n",
    "labels = np_utils.to_categorical(labels, 10)"
   ]
  },
  {
   "cell_type": "code",
   "execution_count": 62,
   "metadata": {},
   "outputs": [],
   "source": [
    "# Load và xử lý MNIST dataset\n",
    "(X_train, y_train), (X_test, y_test) = mnist.load_data()\n",
    "X_train = X_train.reshape(60000, 784) \n",
    "X_train = X_train.astype('float32')   \n",
    "X_train /= 255\n",
    "Y_train = np_utils.to_categorical(y_train, 10)"
   ]
  },
  {
   "cell_type": "code",
   "execution_count": 63,
   "metadata": {},
   "outputs": [],
   "source": [
    "X_train = np.concatenate((X_train, img_data))\n",
    "Y_train = np.concatenate((Y_train, labels))"
   ]
  },
  {
   "cell_type": "code",
   "execution_count": 68,
   "metadata": {},
   "outputs": [
    {
     "name": "stdout",
     "output_type": "stream",
     "text": [
      "Combined X_train size: (61000, 784)\n",
      "Combined Y_train size: (61000, 10)\n"
     ]
    }
   ],
   "source": [
    "print(\"Combined X_train size:\", X_train.shape)\n",
    "print(\"Combined Y_train size:\", Y_train.shape)"
   ]
  },
  {
   "cell_type": "code",
   "execution_count": 69,
   "metadata": {},
   "outputs": [
    {
     "name": "stdout",
     "output_type": "stream",
     "text": [
      "Sample values from combined X_train: [0. 0. 0. 0. 0. 0. 0. 0. 0. 0.]\n"
     ]
    }
   ],
   "source": [
    "sample = X_train[random.randint(0, len(X_train) - 1)]\n",
    "\n",
    "print(\"Sample values from combined X_train:\", sample[:10])\n"
   ]
  },
  {
   "cell_type": "code",
   "execution_count": 70,
   "metadata": {},
   "outputs": [
    {
     "name": "stdout",
     "output_type": "stream",
     "text": [
      "Sample label from combined Y_train: [0. 0. 0. 0. 0. 0. 0. 0. 0. 1.]\n"
     ]
    }
   ],
   "source": [
    "label = Y_train[random.randint(0, len(Y_train) - 1)]\n",
    "\n",
    "print(\"Sample label from combined Y_train:\", label)\n"
   ]
  },
  {
   "cell_type": "code",
   "execution_count": 71,
   "metadata": {},
   "outputs": [
    {
     "name": "stdout",
     "output_type": "stream",
     "text": [
      "Epoch 1/11\n",
      "477/477 [==============================] - 4s 8ms/step - loss: 0.2791 - accuracy: 0.9159\n",
      "Epoch 2/11\n",
      "477/477 [==============================] - 4s 8ms/step - loss: 0.1219 - accuracy: 0.9620\n",
      "Epoch 3/11\n",
      "477/477 [==============================] - 4s 8ms/step - loss: 0.0847 - accuracy: 0.9732\n",
      "Epoch 4/11\n",
      "477/477 [==============================] - 4s 8ms/step - loss: 0.0630 - accuracy: 0.9802\n",
      "Epoch 5/11\n",
      "477/477 [==============================] - 4s 7ms/step - loss: 0.0540 - accuracy: 0.9827\n",
      "Epoch 6/11\n",
      "477/477 [==============================] - 4s 8ms/step - loss: 0.0431 - accuracy: 0.9862\n",
      "Epoch 7/11\n",
      "477/477 [==============================] - 4s 9ms/step - loss: 0.0365 - accuracy: 0.9878\n",
      "Epoch 8/11\n",
      "477/477 [==============================] - 4s 9ms/step - loss: 0.0368 - accuracy: 0.9880\n",
      "Epoch 9/11\n",
      "477/477 [==============================] - 4s 8ms/step - loss: 0.0326 - accuracy: 0.9888\n",
      "Epoch 10/11\n",
      "477/477 [==============================] - 4s 8ms/step - loss: 0.0262 - accuracy: 0.9912\n",
      "Epoch 11/11\n",
      "477/477 [==============================] - 4s 8ms/step - loss: 0.0237 - accuracy: 0.9924\n"
     ]
    },
    {
     "data": {
      "text/plain": [
       "<keras.src.callbacks.History at 0x7f35d825ec10>"
      ]
     },
     "execution_count": 71,
     "metadata": {},
     "output_type": "execute_result"
    }
   ],
   "source": [
    "# Xây dựng và huấn luyện mô hình\n",
    "model_dense = Sequential([\n",
    "    Dense(512, input_shape=(784,), activation='relu'),\n",
    "    Dropout(0.2),\n",
    "    Dense(512, activation='relu'),\n",
    "    Dropout(0.2),\n",
    "    Dense(10, activation='softmax')\n",
    "])\n",
    "\n",
    "model_dense.compile(loss='categorical_crossentropy', optimizer='adam', metrics=['accuracy'])\n",
    "model_dense.fit(X_train, Y_train, batch_size=128, epochs=11, verbose=1)"
   ]
  },
  {
   "cell_type": "code",
   "execution_count": 66,
   "metadata": {},
   "outputs": [],
   "source": [
    "# Lưu mô hình\n",
    "model_dense.save('dense_model.h5')"
   ]
  }
 ],
 "metadata": {
  "kernelspec": {
   "display_name": "base",
   "language": "python",
   "name": "python3"
  },
  "language_info": {
   "codemirror_mode": {
    "name": "ipython",
    "version": 3
   },
   "file_extension": ".py",
   "mimetype": "text/x-python",
   "name": "python",
   "nbconvert_exporter": "python",
   "pygments_lexer": "ipython3",
   "version": "3.11.5"
  }
 },
 "nbformat": 4,
 "nbformat_minor": 2
}
